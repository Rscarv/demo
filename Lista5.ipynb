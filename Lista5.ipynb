{
  "nbformat": 4,
  "nbformat_minor": 0,
  "metadata": {
    "colab": {
      "name": "Untitled0.ipynb",
      "provenance": [],
      "authorship_tag": "ABX9TyN8s7sk8c6N4/I625hSXV92",
      "include_colab_link": true
    },
    "kernelspec": {
      "name": "python3",
      "display_name": "Python 3"
    }
  },
  "cells": [
    {
      "cell_type": "markdown",
      "metadata": {
        "id": "view-in-github",
        "colab_type": "text"
      },
      "source": [
        "<a href=\"https://colab.research.google.com/github/Rscarv/demo/blob/master/Lista5.ipynb\" target=\"_parent\"><img src=\"https://colab.research.google.com/assets/colab-badge.svg\" alt=\"Open In Colab\"/></a>"
      ]
    },
    {
      "cell_type": "code",
      "metadata": {
        "id": "8M07p3ySxvTr"
      },
      "source": [
        ""
      ],
      "execution_count": null,
      "outputs": []
    },
    {
      "cell_type": "code",
      "metadata": {
        "colab": {
          "base_uri": "https://localhost:8080/"
        },
        "id": "M7uL9UO4x2zi",
        "outputId": "d60cadc9-172e-4eab-f33c-e9aecdf8e709"
      },
      "source": [
        "# Questão 01\n",
        "import statistics\n",
        "r = [10, 13, 17, 9, 8, 11, 13, 7]\n",
        "#criação da váriavel \"r\" com os dados sobre a questão.\n",
        "\n",
        "# a)\n",
        "Media_aritmética_simples = statistics.mean(r)\n",
        "print('A Média Aritmética Simples de Gaúchos é:', Media_aritmética_simples)\n",
        "# Cálculo da Média Aritmétrica Simples utilizando o comando \"statistics.mean\" com a adição da váriavel \"r\".\n",
        "\n",
        "# b)\n",
        "Media_harmonica = statistics.harmonic_mean(r) \n",
        "print('A Média Harmônica de Gaúchos é:', round(Media_harmonica,1))\n",
        "# Cálculo da Média harmônica utilizando o comando \"statistics.harmonic_mean\" com a adição da váriavel \"r\". O comando \"Round\" foi usado para estabelecer a quantidade de casas decimais após a vírgula.\n",
        "\n",
        "# c)\n",
        "from scipy.stats.mstats import gmean\n",
        "Media_geométrica = gmean(r)  \n",
        "print('A Média Geométrica de Gaúchos é:', round(Media_geométrica,1))\n",
        "# Cálculo da Média Geométrica utilizando o comando \"gmean\" com a adição da váriavel \"r\". O comando \"Round\" foi usado para estabelecer a quantidade de casas decimais após a vírgula.\n",
        "\n",
        "# d)\n",
        "Moda = statistics.mode(r) \n",
        "print('A Moda de Gaúchos é:', Moda)\n",
        "# Cálculo da Moda utilizando o comando \"statistics.mode\" com a adição da váriavel \"r\".\n",
        "\n",
        "# e)\n",
        "Variancia = statistics.variance(r) \n",
        "print('A Variância de Gaúchos é:', round(Variancia,1)) \n",
        "# Cálculo da Variância utilizando o comando \"statistics.variance\" com a adição da váriavel \"r\". O comando \"Round\" foi usado para estabelecer a quantidade de casas decimais após a vírgula.\n",
        "\n",
        "# f)\n",
        "Desvio_padrão = statistics.stdev(r) \n",
        "print('O Desvio Padrão de Gaúchos é:', round(Desvio_padrão,1)) \n",
        "# Cálculo do Desvio Padrão utilizando o comando \"statistics.stdev\" com a adição da váriavel \"r\". O comando \"Round\" foi usado para estabelecer a quantidade de casas decimais após a vírgula.\n",
        "\n",
        "\n",
        "\n",
        "# Questão 02\n",
        "import statistics\n",
        "r = [67, 75, 63, 72, 77, 78, 81, 77, 80]\n",
        "#criação da váriavel \"r\" com os dados sobre a questão\n",
        "\n",
        "# a)\n",
        "Media_aritmética_simples = statistics.mean(r) \n",
        "print('A Média Aritmética Simples da escala de ansiedade é:', round(Media_aritmética_simples,1)) \n",
        "Media_Harmonica = statistics.harmonic_mean(r)\n",
        "print('A Média Harmônica da escala de ansiedade é:', round(Media_harmonica,1)) \n",
        "from scipy.stats.mstats import gmean\n",
        "Media_geométrica = gmean(r)  \n",
        "print('A Média Geométrica da escala de ansiedade é:', round(Media_geométrica,1))\n",
        "# Cálculo da Média Aritmética Simples, Média harmônica e Média Geométrica utilizando os comandos \"statistics.mean\", \"statistics.stdev\" e \"gmean\" respectivamente com a adição da váriavel \"r\"\". O comando \"Round\" foi usado para estabelecer a quantidade de casas decimais após a vírgula.\n",
        "\n",
        "# b)\n",
        "Moda = statistics.mode(r) \n",
        "print('A Moda da escala de ansiedade é:', Moda)\n",
        "# Cálculo da moda utilizando o comando \"statistics.mode\" com a adição da váriavel \"r\".\n",
        "\n",
        "# c)\n",
        "Mediana = statistics.median(r) \n",
        "print('A Mediana da escala de ansiedade é:', Mediana)\n",
        "# Cálculo da Mediana utilizando o comando \"statistics.median\" com a adição da váriavel \"r\".\n",
        "\n",
        "# d)\n",
        "Variancia = statistics.variance(r) \n",
        "print('A Variância da escala de ansiedade é:', round(Variancia,1)) \n",
        "# Cálculo da Variância utilizando o comando \"statistics.variance\" com a adição da váriavel \"r\". O comando \"Round\" foi usado para estabelecer a quantidade de casas decimais após a vírgula.\n",
        "\n",
        "# e)\n",
        "Desvio_padrão = statistics.stdev(r) \n",
        "print('O Desvio Padrão da escala de ansiedade é:', round(Desvio_padrão,1)) \n",
        "# Cálculo do Desvio Padrão utilizando o comando \"statistics.stdev\" com a adição da váriavel \"r\". O comando \"Round\" foi usado para estabelecer a quantidade de casas decimais após a vírgula.\n",
        "\n",
        "# Questão 03\n",
        "import statistics\n",
        "r = [4.0, 4.5, 5.0, 5.0, 5.0, 5.5, 6.0, 6.0, 6.5, 6.5, 6.5, 6.5, 7.0, 7.0, 7.0, 7.0, 7.0, 7.0, 7.5, 8.5, 9.0, 9.0, 9.0, 9.5, 10.0, 10.0, 10.5, 10.5, 11.0, 12.0, 12.5, 13.0, 13.0]\n",
        "#criação da váriavel \"r\" com os dados sobre a questão.\n",
        "\n",
        "Media = statistics.mean(r) \n",
        "Desvio_Padrão = statistics.stdev(r) \n",
        "CV = (Media/Desvio_Padrão)*100 \n",
        "print('O Coeficiente de Variação desses conjutos de dados é:', round(CV,1),'%')\n",
        "# Nessa questão houve o cálculo da média dividida pelo desvio padrão e sendo multiplicado o resultado por 100, assim chegamos ao resultado impresso.\n",
        "\n",
        "# Questão 04\n",
        "import statistics\n",
        "r = [12, 15, 18, 22, 17, 14, 18, 23, 29, 12]\n",
        "#criação da váriavel \"r\" com os dados sobre a questão.\n",
        "\n",
        "# a)\n",
        "Media = statistics.mean(r) \n",
        "print('O Valor da Produção média é:', Media,'Toneladas') \n",
        "# Cálculo da Média utilizando o comando \"statistics.mean\" com a adição da váriavel \"r\" chegando em um resultado empresso em toneladas.\n",
        "\n",
        "# b)\n",
        "Mediana = statistics.median(r) \n",
        "print('O Valor da Mediana de Produções é:', Mediana,'Toneladas') \n",
        "# Cálculo da Mediana utilizando o comando \"statistics.median\" com a adição da váriavel \"r\" chegando em um resultado expresso em toneladas.\n",
        "\n",
        "# c)\n",
        "Desvio_Padrão = statistics.stdev(r) \n",
        "print('O Valor do Devio Padrão é:', round(Desvio_Padrão,1),'Toneladas') \n",
        "# Cálculo do Desvio Padrão utilizando o comando \"statistics.stdev\" com a adição da váriavel \"r\" chegando em um resultado expresso em toneladas. O comando \"Round\" foi usado para estabelecer a quantidade de casas decimais após a vírgula.\n"
      ],
      "execution_count": 60,
      "outputs": [
        {
          "output_type": "stream",
          "text": [
            "A Média Aritmética Simples de Gaúchos é: 11\n",
            "A Média Harmônica de Gaúchos é: 10.2\n",
            "A Média Geométrica de Gaúchos é: 10.6\n",
            "A Moda de Gaúchos é: 13\n",
            "A Variância de Gaúchos é: 10.6\n",
            "O Desvio Padrão de Gaúchos é: 3.3\n",
            "A Média Aritmética Simples da escala de ansiedade é: 74.4\n",
            "A Média Harmônica da escala de ansiedade é: 10.2\n",
            "A Média Geométrica da escala de ansiedade é: 74.2\n",
            "A Moda da escala de ansiedade é: 77\n",
            "A Mediana da escala de ansiedade é: 77\n",
            "A Variância da escala de ansiedade é: 36.5\n",
            "O Desvio Padrão da escala de ansiedade é: 6.0\n",
            "O Coeficiente de Variação desses conjutos de dados é: 315.3 %\n",
            "O Valor da Produção média é: 18 Toneladas\n",
            "O Valor da Mediana de Produções é: 17.5 Toneladas\n",
            "O Valor do Devio Padrão é: 5.4 Toneladas\n"
          ],
          "name": "stdout"
        }
      ]
    }
  ]
}